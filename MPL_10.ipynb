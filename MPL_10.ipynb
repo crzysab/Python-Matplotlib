{
  "nbformat": 4,
  "nbformat_minor": 0,
  "metadata": {
    "colab": {
      "name": "MPL_10.ipynb",
      "provenance": [],
      "authorship_tag": "ABX9TyMREWkyAlMg4yGCYYIPJr66",
      "include_colab_link": true
    },
    "kernelspec": {
      "name": "python3",
      "display_name": "Python 3"
    },
    "language_info": {
      "name": "python"
    }
  },
  "cells": [
    {
      "cell_type": "markdown",
      "metadata": {
        "id": "view-in-github",
        "colab_type": "text"
      },
      "source": [
        "<a href=\"https://colab.research.google.com/github/crzysab/Python-Matplotlib/blob/main/MPL_10.ipynb\" target=\"_parent\"><img src=\"https://colab.research.google.com/assets/colab-badge.svg\" alt=\"Open In Colab\"/></a>"
      ]
    },
    {
      "cell_type": "markdown",
      "metadata": {
        "id": "UknltNTAIn4N"
      },
      "source": [
        "**Belajar Box Plot | Box Chart**\n",
        "\n",
        "___"
      ]
    },
    {
      "cell_type": "markdown",
      "metadata": {
        "id": "N3RXNRmNIqzC"
      },
      "source": [
        "Import Modules"
      ]
    },
    {
      "cell_type": "code",
      "metadata": {
        "id": "v2Z86Z4XG_kC"
      },
      "source": [
        "import matplotlib\n",
        "import matplotlib.pyplot as plt\n",
        "import numpy as np"
      ],
      "execution_count": 5,
      "outputs": []
    },
    {
      "cell_type": "markdown",
      "metadata": {
        "id": "LgyEwhp_JHLq"
      },
      "source": [
        "Sample Dataset"
      ]
    },
    {
      "cell_type": "code",
      "metadata": {
        "colab": {
          "base_uri": "https://localhost:8080/"
        },
        "id": "MdmjZJZ1JIUq",
        "outputId": "1a37da5e-e11f-46f2-e390-202ffc21317a"
      },
      "source": [
        "np.random.seed(2)\n",
        "data = np.random.normal(loc=100, #nilai tengah\n",
        "                        scale=10, #standar deviasi\n",
        "                        size=200) #banyak data\n",
        "data"
      ],
      "execution_count": 6,
      "outputs": [
        {
          "output_type": "execute_result",
          "data": {
            "text/plain": [
              "array([ 95.83242153,  99.43733173,  78.63803904, 116.40270808,\n",
              "        82.06564415,  91.58252634, 105.02881417,  87.54711913,\n",
              "        89.42047781,  90.90992385, 105.51454045, 122.92208013,\n",
              "       100.41539393,  88.82074555, 105.39058321,  94.038403  ,\n",
              "        99.80869503, 111.7500122 ,  92.52129051, 100.09025251,\n",
              "        91.21892107,  98.4356583 , 102.56570452,  90.11220951,\n",
              "        96.61178034,  97.63815969,  93.62344988,  88.12387714,\n",
              "        85.78782773,  98.46504804,  97.3094304 , 122.31366789,\n",
              "        75.65232423, 101.12726505, 103.70444537, 113.59633863,\n",
              "       105.01857207,  91.55786296, 100.00009761, 105.42352572,\n",
              "        96.86491803, 107.71011738,  81.31909345, 117.31184666,\n",
              "       114.67678011,  96.64322661, 106.1134078 , 100.47970592,\n",
              "        91.70864711, 100.87710218, 110.00365887,  96.18907482,\n",
              "        96.24330577,  99.25529237, 104.3349633 , 112.7837923 ,\n",
              "        93.65320695, 105.08396243, 102.16116006,  81.41387614,\n",
              "        95.80683518,  98.67671102,  99.6042976 , 103.26003433,\n",
              "        79.59676951, 100.46255523,  93.22324423,  85.60560973,\n",
              "       105.2429643 , 107.35279576,  93.46749732, 108.42456282,\n",
              "        96.18483518, 100.66489009,  89.01261053, 115.84487056,\n",
              "        73.40550544,  99.08547377, 106.95119605,  79.66533454,\n",
              "        98.10530735,  99.22781335, 108.24703005, 112.48212921,\n",
              "        95.96107731,  86.15481333, 113.67235424, 112.17885633,\n",
              "        95.37994652, 103.50888494, 103.81866234, 105.66275441,\n",
              "       102.04207979, 114.06696242,  82.62040496, 110.40823953,\n",
              "       103.8047197 ,  97.82864731, 111.73531498,  76.56396809,\n",
              "       111.61521491, 103.86078048,  88.66866726, 104.33092555,\n",
              "        96.95913561, 125.85294868, 118.35332723, 104.40689872,\n",
              "        92.80746159,  94.16585405,  96.74950372,  94.39765494,\n",
              "        90.97753932,  94.09027725,  97.23820508,  94.83116106,\n",
              "        93.0141005 ,  90.71108075, 125.50438236,  85.26826752,\n",
              "        89.78585269, 104.32395701,  96.7641993 , 104.23824708,\n",
              "       107.99179995, 112.62613663, 107.51964849,  90.06239017,\n",
              "       111.09143281,  82.35082272,  98.85578703,  95.01825806,\n",
              "        89.39200964, 105.91666521,  98.16743426, 110.19854729,\n",
              "        85.17534522, 108.46311892, 104.97940148, 101.26504175,\n",
              "        85.81189449,  97.48225882,  84.53325389,  79.17348064,\n",
              "       132.79745401, 109.7086132 , 117.92592852,  95.70986681,\n",
              "       106.9619798 , 106.97416272, 106.01515814, 100.03659491,\n",
              "        97.71752442,  79.30387737, 106.10144086, 104.234969  ,\n",
              "       111.17886733,  97.25757911, 117.41812188,  95.52499124,\n",
              "        87.44572782, 109.38163671,  95.3165374 ,  87.45279693,\n",
              "       101.24823646, 107.56502143, 102.41439629, 104.97425649,\n",
              "       141.08692624, 108.21120877, 115.31760316,  80.14154226,\n",
              "       103.65053516, 107.74082033,  96.35520908,  91.24020522,\n",
              "       103.96520159,  96.85382564,  94.06244417, 111.49500568,\n",
              "       113.35566168, 103.02629336,  95.45772145, 105.14370717,\n",
              "       108.29458431, 106.30621967,  85.4663565 ,  96.61982223,\n",
              "       103.59133332, 106.22220414, 109.60781945, 107.58370347,\n",
              "        88.65681517,  92.92579112,  87.78570835, 118.04476642,\n",
              "       101.80409807, 105.53164274, 110.33029066,  96.70997565])"
            ]
          },
          "metadata": {},
          "execution_count": 6
        }
      ]
    },
    {
      "cell_type": "markdown",
      "metadata": {
        "id": "Pja4rELBKKlX"
      },
      "source": [
        "Simple Box Plot"
      ]
    },
    {
      "cell_type": "code",
      "metadata": {
        "colab": {
          "base_uri": "https://localhost:8080/",
          "height": 295
        },
        "id": "f5eMPUiGKTcB",
        "outputId": "2810646f-e5d7-4fa8-b783-1095f8b14890"
      },
      "source": [
        "plt.boxplot(data, labels=['Data'])\n",
        "\n",
        "plt.title('Simple Box Plot')\n",
        "plt.xlabel('Sumbu-X')\n",
        "plt.ylabel('Sumbu-Y')\n",
        "\n",
        "plt.grid()\n",
        "\n",
        "plt.show()"
      ],
      "execution_count": 7,
      "outputs": [
        {
          "output_type": "display_data",
          "data": {
            "image/png": "[encoded data removed]",
            "text/plain": [
              "<Figure size 432x288 with 1 Axes>"
            ]
          },
          "metadata": {
            "needs_background": "light"
          }
        }
      ]
    },
    {
      "cell_type": "markdown",
      "metadata": {
        "id": "-6rD_TyWLG8h"
      },
      "source": [
        "Notched Box Plot"
      ]
    },
    {
      "cell_type": "code",
      "metadata": {
        "colab": {
          "base_uri": "https://localhost:8080/",
          "height": 295
        },
        "id": "ET8dR_oALJFy",
        "outputId": "f8eaad03-3076-41f0-dacc-2c7079201529"
      },
      "source": [
        "plt.boxplot(data, labels=['Data'], notch=True)\n",
        "\n",
        "plt.title('Notched Box Plot')\n",
        "plt.xlabel('Sumbu-X')\n",
        "plt.ylabel('Sumbu-Y')\n",
        "\n",
        "plt.show()"
      ],
      "execution_count": 8,
      "outputs": [
        {
          "output_type": "display_data",
          "data": {
            "image/png": "[encoded data removed]",
            "text/plain": [
              "<Figure size 432x288 with 1 Axes>"
            ]
          },
          "metadata": {
            "needs_background": "light"
          }
        }
      ]
    },
    {
      "cell_type": "markdown",
      "metadata": {
        "id": "CwpCFcZNL9j_"
      },
      "source": [
        "Pengaturan Marker untuk Outlier"
      ]
    },
    {
      "cell_type": "code",
      "metadata": {
        "colab": {
          "base_uri": "https://localhost:8080/",
          "height": 295
        },
        "id": "V4T3RYzcMCd_",
        "outputId": "01bb1190-87c2-41f1-8cf3-0f45895fee91"
      },
      "source": [
        "plt.boxplot(data, \n",
        "            labels=['Data'], \n",
        "            showfliers=True, #pengaturan untuk menampilkan atau tidak tanda outlier\n",
        "            flierprops={'markerfacecolor':'r', 'marker':'*'})\n",
        "\n",
        "plt.title('Pengaturan Marker')\n",
        "plt.xlabel('Sumbu-X')\n",
        "plt.ylabel('Sumbu-Y')\n",
        "\n",
        "plt.show()"
      ],
      "execution_count": 11,
      "outputs": [
        {
          "output_type": "display_data",
          "data": {
            "image/png": "[encoded data removed]",
            "text/plain": [
              "<Figure size 432x288 with 1 Axes>"
            ]
          },
          "metadata": {
            "needs_background": "light"
          }
        }
      ]
    },
    {
      "cell_type": "markdown",
      "metadata": {
        "id": "_oFigtNEMxud"
      },
      "source": [
        "Horizontal Box Plot"
      ]
    },
    {
      "cell_type": "code",
      "metadata": {
        "colab": {
          "base_uri": "https://localhost:8080/",
          "height": 295
        },
        "id": "8-7KLjuRMzv5",
        "outputId": "03a49891-ba19-400f-e293-63e68ec8f7a4"
      },
      "source": [
        "plt.boxplot(data, labels=['Data'], vert=False)\n",
        "\n",
        "plt.title('Horizontal Box Plot')\n",
        "plt.xlabel('Sumbu-X')\n",
        "plt.ylabel('Sumbu-Y')\n",
        "\n",
        "plt.show()"
      ],
      "execution_count": 12,
      "outputs": [
        {
          "output_type": "display_data",
          "data": {
            "image/png": "[encoded data removed]",
            "text/plain": [
              "<Figure size 432x288 with 1 Axes>"
            ]
          },
          "metadata": {
            "needs_background": "light"
          }
        }
      ]
    },
    {
      "cell_type": "markdown",
      "metadata": {
        "id": "5u72Y94vNAMo"
      },
      "source": [
        "Multiple Box Plot"
      ]
    },
    {
      "cell_type": "code",
      "metadata": {
        "id": "26XfROohNCM0"
      },
      "source": [
        "np.random.seed(10)\n",
        "data1 = np.random.normal(100, 10, 200)\n",
        "data2 = np.random.normal(80, 30, 200)\n",
        "data3 = np.random.normal(90, 20, 200)\n",
        "data4 = np.random.normal(70, 25, 200)\n",
        "\n",
        "data = [data1, data2, data3, data4]\n",
        "labels = ['Data 1', 'Data 2' ,'Data 3', 'Data 4']"
      ],
      "execution_count": 18,
      "outputs": []
    },
    {
      "cell_type": "code",
      "metadata": {
        "colab": {
          "base_uri": "https://localhost:8080/",
          "height": 295
        },
        "id": "aQZpOpfhNhjA",
        "outputId": "136daf79-893c-47ad-d40b-4e8955b856cb"
      },
      "source": [
        "plt.boxplot(data, labels=labels)\n",
        "\n",
        "plt.title('Multiple Box Plot')\n",
        "plt.xlabel('Sumbu-X')\n",
        "plt.ylabel('Sumbu-Y')\n",
        "\n",
        "plt.show()"
      ],
      "execution_count": 19,
      "outputs": [
        {
          "output_type": "display_data",
          "data": {
            "image/png": "[encoded data removed]",
            "text/plain": [
              "<Figure size 432x288 with 1 Axes>"
            ]
          },
          "metadata": {
            "needs_background": "light"
          }
        }
      ]
    }
  ]
}