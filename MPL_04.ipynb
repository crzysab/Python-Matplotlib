{
  "nbformat": 4,
  "nbformat_minor": 0,
  "metadata": {
    "colab": {
      "name": "MPL_04.ipynb",
      "provenance": [],
      "authorship_tag": "ABX9TyPlveQp5HNj3EEd5LId+Af9",
      "include_colab_link": true
    },
    "kernelspec": {
      "name": "python3",
      "display_name": "Python 3"
    },
    "language_info": {
      "name": "python"
    }
  },
  "cells": [
    {
      "cell_type": "markdown",
      "metadata": {
        "id": "view-in-github",
        "colab_type": "text"
      },
      "source": [
        "<a href=\"https://colab.research.google.com/github/crzysab/Python-Matplotlib/blob/main/MPL_04.ipynb\" target=\"_parent\"><img src=\"https://colab.research.google.com/assets/colab-badge.svg\" alt=\"Open In Colab\"/></a>"
      ]
    },
    {
      "cell_type": "markdown",
      "metadata": {
        "id": "WwF6oMO3GjcH"
      },
      "source": [
        "Import Modules"
      ]
    },
    {
      "cell_type": "code",
      "metadata": {
        "id": "ooma7_zlF64p"
      },
      "source": [
        "import matplotlib\n",
        "import matplotlib.pyplot as plt\n",
        "import numpy as np"
      ],
      "execution_count": 1,
      "outputs": []
    },
    {
      "cell_type": "markdown",
      "metadata": {
        "id": "Ur5mWvGSGlLM"
      },
      "source": [
        "Sample Data"
      ]
    },
    {
      "cell_type": "code",
      "metadata": {
        "colab": {
          "base_uri": "https://localhost:8080/"
        },
        "id": "8_TlS0evGx7y",
        "outputId": "3ee663a6-933e-43e4-e215-b9978d423970"
      },
      "source": [
        "mu, sigma = 100, 15 #nilai mean dan nilai standar deviation\n",
        "\n",
        "x = mu + sigma * np.random.randn(10000) #normal distribution\n",
        "x"
      ],
      "execution_count": 2,
      "outputs": [
        {
          "output_type": "execute_result",
          "data": {
            "text/plain": [
              "array([116.9713879 , 102.96518698,  86.30183766, ...,  95.73499859,\n",
              "        94.88876077,  98.78137908])"
            ]
          },
          "metadata": {},
          "execution_count": 2
        }
      ]
    },
    {
      "cell_type": "code",
      "metadata": {
        "colab": {
          "base_uri": "https://localhost:8080/"
        },
        "id": "unKo83HiH0B1",
        "outputId": "972d8298-a828-40a6-c531-523dbddbf1e4"
      },
      "source": [
        "x.shape"
      ],
      "execution_count": 3,
      "outputs": [
        {
          "output_type": "execute_result",
          "data": {
            "text/plain": [
              "(10000,)"
            ]
          },
          "metadata": {},
          "execution_count": 3
        }
      ]
    },
    {
      "cell_type": "markdown",
      "metadata": {
        "id": "Tl-WlsMqIKmJ"
      },
      "source": [
        "Histogram dengan Pyplot Style"
      ]
    },
    {
      "cell_type": "code",
      "metadata": {
        "colab": {
          "base_uri": "https://localhost:8080/",
          "height": 295
        },
        "id": "8QSBeGJ4IOG4",
        "outputId": "5d64dee5-9421-41b0-a10b-80952f9c7c4f"
      },
      "source": [
        "plt.hist(x,\n",
        "         bins=50, #jumlah pengelompokan data (dari 10000 data point dibentuk 50 kelompok data)\n",
        "         facecolor='g',\n",
        "         alpha=0.75)\n",
        "\n",
        "plt.xlabel('Sumbu X')\n",
        "plt.ylabel('Sumbu Y')\n",
        "plt.title('Contoh Histogram')\n",
        "plt.text(45,500, r'$\\mu=100,\\ \\sigma=15$')\n",
        "plt.grid()\n",
        "\n",
        "plt.show()"
      ],
      "execution_count": 4,
      "outputs": [
        {
          "output_type": "display_data",
          "data": {
            "image/png": "[encoded data removed]",
            "text/plain": [
              "<Figure size 432x288 with 1 Axes>"
            ]
          },
          "metadata": {
            "needs_background": "light"
          }
        }
      ]
    },
    {
      "cell_type": "markdown",
      "metadata": {
        "id": "gJmB-ROcg19p"
      },
      "source": [
        "Histogram dengan OO Style"
      ]
    },
    {
      "cell_type": "code",
      "metadata": {
        "colab": {
          "base_uri": "https://localhost:8080/",
          "height": 295
        },
        "id": "SdCF1GxKfukU",
        "outputId": "46001004-a811-4449-870c-8bf6b884c26f"
      },
      "source": [
        "fig, ax = plt.subplots()\n",
        "\n",
        "ax.hist(x,\n",
        "        bins=50,\n",
        "        facecolor='r',\n",
        "        alpha=0.75)\n",
        "ax.set_xlabel('Sumbu X')\n",
        "ax.set_ylabel('Sumbu Y')\n",
        "ax.set_title('Contoh Histogram')\n",
        "\n",
        "ax.text(45,500, r'$\\mu=100,\\ \\sigma=15$')\n",
        "ax.grid()\n",
        "\n",
        "plt.show()"
      ],
      "execution_count": 5,
      "outputs": [
        {
          "output_type": "display_data",
          "data": {
            "image/png": "[encoded data removed]",
            "text/plain": [
              "<Figure size 432x288 with 1 Axes>"
            ]
          },
          "metadata": {
            "needs_background": "light"
          }
        }
      ]
    }
  ]
}