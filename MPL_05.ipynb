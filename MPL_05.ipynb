{
  "nbformat": 4,
  "nbformat_minor": 0,
  "metadata": {
    "colab": {
      "name": "MPL_05.ipynb",
      "provenance": [],
      "authorship_tag": "ABX9TyMGW3InUyDiKWfDFv4GoVZH",
      "include_colab_link": true
    },
    "kernelspec": {
      "name": "python3",
      "display_name": "Python 3"
    },
    "language_info": {
      "name": "python"
    }
  },
  "cells": [
    {
      "cell_type": "markdown",
      "metadata": {
        "id": "view-in-github",
        "colab_type": "text"
      },
      "source": [
        "<a href=\"https://colab.research.google.com/github/crzysab/Python-Matplotlib/blob/main/MPL_05.ipynb\" target=\"_parent\"><img src=\"https://colab.research.google.com/assets/colab-badge.svg\" alt=\"Open In Colab\"/></a>"
      ]
    },
    {
      "cell_type": "markdown",
      "metadata": {
        "id": "XNV4wvhdD6ou"
      },
      "source": [
        "**Belajar Bar Plot | Bar Chart**\n",
        "\n",
        "\n",
        "___"
      ]
    },
    {
      "cell_type": "markdown",
      "metadata": {
        "id": "OqJH9NciEQkY"
      },
      "source": [
        "Import Modules"
      ]
    },
    {
      "cell_type": "code",
      "metadata": {
        "id": "zK50W51aD1Zj"
      },
      "source": [
        "import matplotlib\n",
        "import matplotlib.pyplot as plt\n",
        "import numpy as np"
      ],
      "execution_count": null,
      "outputs": []
    },
    {
      "cell_type": "markdown",
      "metadata": {
        "id": "CdIxwTVaES1n"
      },
      "source": [
        "Membuat Bar Plot Sederhana"
      ]
    },
    {
      "cell_type": "code",
      "metadata": {
        "id": "TNAPm4HEEWPy"
      },
      "source": [
        "data = [25, 45, 55, 125, 225]\n",
        "kategori = ['A', 'B', 'C', 'D', 'E']"
      ],
      "execution_count": null,
      "outputs": []
    },
    {
      "cell_type": "code",
      "metadata": {
        "colab": {
          "base_uri": "https://localhost:8080/",
          "height": 295
        },
        "id": "yxk_Pel1ElZC",
        "outputId": "44cd4ef2-d3a3-4ace-ce41-3322ea7b3f14"
      },
      "source": [
        "plt.bar(kategori, data)\n",
        "plt.grid()\n",
        "\n",
        "plt.xlabel('Kategori')\n",
        "plt.ylabel('Jumlah')\n",
        "plt.title('Contoh Bar Plot')\n",
        "\n",
        "plt.show()"
      ],
      "execution_count": null,
      "outputs": [
        {
          "output_type": "display_data",
          "data": {
            "image/png": "[encoded data removed]",
            "text/plain": [
              "<Figure size 432x288 with 1 Axes>"
            ]
          },
          "metadata": {
            "needs_background": "light"
          }
        }
      ]
    },
    {
      "cell_type": "markdown",
      "metadata": {
        "id": "1WZ0yJnVGNs_"
      },
      "source": [
        "Pengaturan Grid dan Color"
      ]
    },
    {
      "cell_type": "code",
      "metadata": {
        "colab": {
          "base_uri": "https://localhost:8080/",
          "height": 295
        },
        "id": "eyI0Dx2jGQC4",
        "outputId": "7d63880b-8880-4d94-add5-da88d56e97d1"
      },
      "source": [
        "plt.bar(kategori, \n",
        "        data, \n",
        "        color='red', \n",
        "        alpha=0.50) #mengatur transparansi warna bar\n",
        "plt.grid(linestyle='--', #mengatur style grid\n",
        "         linewidth=2, #mengatur lebar grid\n",
        "         axis='y',\n",
        "         alpha=0.50) #mengatur transparansi warna grid\n",
        "plt.xlabel('Kategori')\n",
        "plt.ylabel('Jumlah')\n",
        "plt.title('Contoh Bar Plot')\n",
        "\n",
        "plt.show()"
      ],
      "execution_count": null,
      "outputs": [
        {
          "output_type": "display_data",
          "data": {
            "image/png": "[encoded data removed]",
            "text/plain": [
              "<Figure size 432x288 with 1 Axes>"
            ]
          },
          "metadata": {
            "needs_background": "light"
          }
        }
      ]
    },
    {
      "cell_type": "markdown",
      "metadata": {
        "id": "CbH98oiVIE7k"
      },
      "source": [
        "Horizontal Bar Plot"
      ]
    },
    {
      "cell_type": "code",
      "metadata": {
        "colab": {
          "base_uri": "https://localhost:8080/",
          "height": 295
        },
        "id": "4TaWBbnlIHSM",
        "outputId": "f1641e39-94a1-4209-955f-919e26c88c3f"
      },
      "source": [
        "plt.barh(kategori[::-1], \n",
        "        data[::-1], \n",
        "        color='green', \n",
        "        alpha=0.50) #mengatur transparansi warna bar\n",
        "plt.grid(linestyle='--', #mengatur style grid\n",
        "         linewidth=2, #mengatur lebar grid\n",
        "         axis='x',\n",
        "         alpha=0.50) #mengatur transparansi warna grid\n",
        "plt.ylabel('Kategori')\n",
        "plt.xlabel('Jumlah')\n",
        "plt.title('Contoh Horizontal Bar Plot')\n",
        "\n",
        "plt.show()"
      ],
      "execution_count": null,
      "outputs": [
        {
          "output_type": "display_data",
          "data": {
            "image/png": "[encoded data removed]",
            "text/plain": [
              "<Figure size 432x288 with 1 Axes>"
            ]
          },
          "metadata": {
            "needs_background": "light"
          }
        }
      ]
    },
    {
      "cell_type": "markdown",
      "metadata": {
        "id": "FdvChenlJmgH"
      },
      "source": [
        "Stacked Bar Plot"
      ]
    },
    {
      "cell_type": "code",
      "metadata": {
        "id": "tdJ7r8QNJoSt"
      },
      "source": [
        "data1 = [25, 85, 75, 40, 60]\n",
        "data2 = [40, 35, 20, 55, 10]\n",
        "kategori = ['A', 'B', 'C', 'D', 'E']"
      ],
      "execution_count": null,
      "outputs": []
    },
    {
      "cell_type": "code",
      "metadata": {
        "colab": {
          "base_uri": "https://localhost:8080/",
          "height": 295
        },
        "id": "VO6ipxbOJ4oy",
        "outputId": "596eeb8b-d990-466f-9489-11d80877fb2d"
      },
      "source": [
        "plt.bar(kategori, \n",
        "        data1, \n",
        "        label='Data 1',\n",
        "        color='red')\n",
        "plt.bar(kategori, \n",
        "        data2, \n",
        "        label='Data 2',\n",
        "        color='green',\n",
        "        bottom=data1) #mengatur data yang dibawah\n",
        "        #jika tidak menggunakan bottom maka akan terjadi penimpaan bar\n",
        "\n",
        "plt.legend()\n",
        "\n",
        "plt.grid(linestyle='--', #mengatur style grid\n",
        "         linewidth=1, #mengatur lebar grid\n",
        "         axis='y',\n",
        "         alpha=0.50) #mengatur transparansi warna grid\n",
        "plt.xlabel('Kategori')\n",
        "plt.ylabel('Jumlah')\n",
        "plt.title('Contoh Stacked Bar Plot')\n",
        "\n",
        "plt.show()"
      ],
      "execution_count": null,
      "outputs": [
        {
          "output_type": "display_data",
          "data": {
            "image/png": "[encoded data removed]",
            "text/plain": [
              "<Figure size 432x288 with 1 Axes>"
            ]
          },
          "metadata": {
            "needs_background": "light"
          }
        }
      ]
    },
    {
      "cell_type": "markdown",
      "metadata": {
        "id": "hxthsF52Sexe"
      },
      "source": [
        "Grouped Bar Plot"
      ]
    },
    {
      "cell_type": "code",
      "metadata": {
        "colab": {
          "base_uri": "https://localhost:8080/"
        },
        "id": "L_FLN61AShqJ",
        "outputId": "c4f0b848-909c-4fe8-d63f-052596cc0fcf"
      },
      "source": [
        "data1 = [25, 85, 75, 40, 60]\n",
        "data2 = [40, 35, 20, 55, 10]\n",
        "kategori = ['A', 'B', 'C', 'D', 'E']\n",
        "\n",
        "x = np.arange(len(kategori))\n",
        "x"
      ],
      "execution_count": null,
      "outputs": [
        {
          "output_type": "execute_result",
          "data": {
            "text/plain": [
              "array([0, 1, 2, 3, 4])"
            ]
          },
          "metadata": {},
          "execution_count": 26
        }
      ]
    },
    {
      "cell_type": "code",
      "metadata": {
        "colab": {
          "base_uri": "https://localhost:8080/",
          "height": 295
        },
        "id": "Qu1xjoBYSqme",
        "outputId": "18568e3f-42fb-424c-c90f-b4648eded695"
      },
      "source": [
        "width = 0.35\n",
        "\n",
        "plt.bar(x-width/2, #mengatur posisi\n",
        "        data1, \n",
        "        width, #mengatur lebar tiap bar\n",
        "        label='Data 1')\n",
        "plt.bar(x+width/2, \n",
        "        data2, \n",
        "        width, \n",
        "        label='Data 2')\n",
        "\n",
        "plt.xticks(x, kategori)\n",
        "\n",
        "plt.grid(linestyle='--', #mengatur style grid\n",
        "         linewidth=2, #mengatur lebar grid\n",
        "         axis='y',\n",
        "         alpha=0.50) #mengatur transparansi warna grid\n",
        "\n",
        "plt.xlabel('Kategori')\n",
        "plt.ylabel('Jumlah')\n",
        "plt.title('Contoh Grouped Bar Plot')\n",
        "\n",
        "plt.legend()\n",
        "plt.show()"
      ],
      "execution_count": null,
      "outputs": [
        {
          "output_type": "display_data",
          "data": {
            "image/png": "[encoded data removed]",
            "text/plain": [
              "<Figure size 432x288 with 1 Axes>"
            ]
          },
          "metadata": {
            "needs_background": "light"
          }
        }
      ]
    }
  ]
}