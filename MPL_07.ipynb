{
  "nbformat": 4,
  "nbformat_minor": 0,
  "metadata": {
    "colab": {
      "name": "MPL_07.ipynb",
      "provenance": [],
      "authorship_tag": "ABX9TyMaP8f9CzZOJ1YBcDCwlgHi",
      "include_colab_link": true
    },
    "kernelspec": {
      "name": "python3",
      "display_name": "Python 3"
    },
    "language_info": {
      "name": "python"
    }
  },
  "cells": [
    {
      "cell_type": "markdown",
      "metadata": {
        "id": "view-in-github",
        "colab_type": "text"
      },
      "source": [
        "<a href=\"https://colab.research.google.com/github/crzysab/Python-Matplotlib/blob/main/MPL_07.ipynb\" target=\"_parent\"><img src=\"https://colab.research.google.com/assets/colab-badge.svg\" alt=\"Open In Colab\"/></a>"
      ]
    },
    {
      "cell_type": "markdown",
      "metadata": {
        "id": "0bAtOS1RgRZg"
      },
      "source": [
        "**Belajar Table Plot | Table Chart**\n",
        "\n",
        "___"
      ]
    },
    {
      "cell_type": "markdown",
      "metadata": {
        "id": "8J75FKurgs1K"
      },
      "source": [
        "Import Modules"
      ]
    },
    {
      "cell_type": "code",
      "metadata": {
        "id": "VC7XrqoggG8P"
      },
      "source": [
        "import matplotlib\n",
        "import matplotlib.pyplot as plt\n",
        "import numpy as np"
      ],
      "execution_count": 1,
      "outputs": []
    },
    {
      "cell_type": "markdown",
      "metadata": {
        "id": "Zw8qcaWyguvK"
      },
      "source": [
        "Sample Data"
      ]
    },
    {
      "cell_type": "code",
      "metadata": {
        "id": "ZGP3y3zVgxJD"
      },
      "source": [
        "data_uas=[\n",
        "          ['Bejo', 70],\n",
        "          ['Tejo', 83],\n",
        "          ['Cecep', 62],\n",
        "          ['Wati', 74],\n",
        "          ['Karti', 71]\n",
        "]"
      ],
      "execution_count": 2,
      "outputs": []
    },
    {
      "cell_type": "code",
      "metadata": {
        "colab": {
          "base_uri": "https://localhost:8080/"
        },
        "id": "dlnmyj0Whmf8",
        "outputId": "e16d7c54-f681-411a-efc3-f6c0536b8348"
      },
      "source": [
        "data_uas"
      ],
      "execution_count": 3,
      "outputs": [
        {
          "output_type": "execute_result",
          "data": {
            "text/plain": [
              "[['Bejo', 70], ['Tejo', 83], ['Cecep', 62], ['Wati', 74], ['Karti', 71]]"
            ]
          },
          "metadata": {},
          "execution_count": 3
        }
      ]
    },
    {
      "cell_type": "markdown",
      "metadata": {
        "id": "yd5JmwahhuWd"
      },
      "source": [
        "Table Plot dengan OO Style"
      ]
    },
    {
      "cell_type": "code",
      "metadata": {
        "colab": {
          "base_uri": "https://localhost:8080/",
          "height": 271
        },
        "id": "u1DN7AcxhxAq",
        "outputId": "54345cbe-9d1e-4e8f-a033-71a956cebe98"
      },
      "source": [
        "fig, ax = plt.subplots()\n",
        "\n",
        "table = plt.table(cellText=data_uas,\n",
        "                  loc='center')\n",
        "table.set_fontsize(18) #ukuran font\n",
        "table.scale(1,4) #ukuran kolom,baris\n",
        "\n",
        "ax.axis(False)\n",
        "plt.show()"
      ],
      "execution_count": 12,
      "outputs": [
        {
          "output_type": "display_data",
          "data": {
            "image/png": "[encoded data removed]",
            "text/plain": [
              "<Figure size 432x288 with 1 Axes>"
            ]
          },
          "metadata": {
            "needs_background": "light"
          }
        }
      ]
    },
    {
      "cell_type": "markdown",
      "metadata": {
        "id": "PphqTmFCkOew"
      },
      "source": [
        "Table Plot dengan Pyplot Style"
      ]
    },
    {
      "cell_type": "code",
      "metadata": {
        "colab": {
          "base_uri": "https://localhost:8080/",
          "height": 271
        },
        "id": "r4z84l_UkQ0a",
        "outputId": "74f346cd-f75a-45f1-9423-1bdb29409443"
      },
      "source": [
        "table = plt.table(cellText=data_uas,\n",
        "                  loc='center')\n",
        "table.set_fontsize(18) #ukuran font\n",
        "table.scale(1,4) #ukuran kolom,baris\n",
        "\n",
        "ax = plt.gca()\n",
        "ax.axis(False)\n",
        "plt.show()"
      ],
      "execution_count": 13,
      "outputs": [
        {
          "output_type": "display_data",
          "data": {
            "image/png": "[encoded data removed]",
            "text/plain": [
              "<Figure size 432x288 with 1 Axes>"
            ]
          },
          "metadata": {
            "needs_background": "light"
          }
        }
      ]
    }
  ]
}