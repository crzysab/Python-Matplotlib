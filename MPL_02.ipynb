{
  "nbformat": 4,
  "nbformat_minor": 0,
  "metadata": {
    "colab": {
      "name": "MPL_02.ipynb",
      "provenance": [],
      "authorship_tag": "ABX9TyMYVt6BAUjevEJKmIFd49jH",
      "include_colab_link": true
    },
    "kernelspec": {
      "name": "python3",
      "display_name": "Python 3"
    },
    "language_info": {
      "name": "python"
    }
  },
  "cells": [
    {
      "cell_type": "markdown",
      "metadata": {
        "id": "view-in-github",
        "colab_type": "text"
      },
      "source": [
        "<a href=\"https://colab.research.google.com/github/sabsabb/Python-Matplotlib/blob/main/MPL_02.ipynb\" target=\"_parent\"><img src=\"https://colab.research.google.com/assets/colab-badge.svg\" alt=\"Open In Colab\"/></a>"
      ]
    },
    {
      "cell_type": "markdown",
      "metadata": {
        "id": "kc1XjHHSB1be"
      },
      "source": [
        "**Pengenalan pyplot**\n",
        "\n",
        "___"
      ]
    },
    {
      "cell_type": "markdown",
      "metadata": {
        "id": "a8sD02jqB5mU"
      },
      "source": [
        "Import Modules"
      ]
    },
    {
      "cell_type": "code",
      "metadata": {
        "id": "TKRijFDgBeqy"
      },
      "source": [
        "import matplotlib.pyplot as plt\n",
        "import numpy as np"
      ],
      "execution_count": 1,
      "outputs": []
    },
    {
      "cell_type": "markdown",
      "metadata": {
        "id": "vTqOgrW6CHYF"
      },
      "source": [
        "Membuat Plotting Sederhana"
      ]
    },
    {
      "cell_type": "code",
      "metadata": {
        "colab": {
          "base_uri": "https://localhost:8080/",
          "height": 265
        },
        "id": "DZv-oMrcCYTs",
        "outputId": "86b60488-f80c-4690-a3f9-2aa8bf5b4ef0"
      },
      "source": [
        "plt.plot([2, 5, 7, 11])\n",
        "\n",
        "#penggunaan fungsi plot dapat dilakukan hanya dengan sebuah deret bilangan (list/array)\n",
        "\n",
        "plt.ylabel('sumbu y')\n",
        "plt.show()"
      ],
      "execution_count": 4,
      "outputs": [
        {
          "output_type": "display_data",
          "data": {
            "image/png": "[encoded data removed]",
            "text/plain": [
              "<Figure size 432x288 with 1 Axes>"
            ]
          },
          "metadata": {
            "needs_background": "light"
          }
        }
      ]
    },
    {
      "cell_type": "markdown",
      "metadata": {
        "id": "RBmzrTnfDNYn"
      },
      "source": [
        "Dengan hanya sebuah deret bilangan, maka secara otomatis akan menjadi data point untuk sumbu Y dan untuk data sumbu x akan secara otomatis dibuat bilangan berurut yang dimulai dari 0"
      ]
    },
    {
      "cell_type": "code",
      "metadata": {
        "colab": {
          "base_uri": "https://localhost:8080/",
          "height": 265
        },
        "id": "rD2CJVcqDarg",
        "outputId": "e1666eb6-ed4d-494f-da04-0b6716c22fa0"
      },
      "source": [
        "#menyertakan data point untuk sumbu x dan sumbu y\n",
        "plt.plot([2, 5, 7, 11],[5, 4, 2, 16])\n",
        "plt.show()"
      ],
      "execution_count": 6,
      "outputs": [
        {
          "output_type": "display_data",
          "data": {
            "image/png": "[encoded data removed]",
            "text/plain": [
              "<Figure size 432x288 with 1 Axes>"
            ]
          },
          "metadata": {
            "needs_background": "light"
          }
        }
      ]
    }
  ]
}