{
  "nbformat": 4,
  "nbformat_minor": 0,
  "metadata": {
    "colab": {
      "name": "MPL_02.ipynb",
      "provenance": [],
      "authorship_tag": "ABX9TyPZl/rOjDzT9/6O+VOtNeS2",
      "include_colab_link": true
    },
    "kernelspec": {
      "display_name": "Python 3",
      "name": "python3"
    },
    "language_info": {
      "name": "python"
    }
  },
  "cells": [
    {
      "cell_type": "markdown",
      "metadata": {
        "id": "view-in-github",
        "colab_type": "text"
      },
      "source": [
        "<a href=\"https://colab.research.google.com/github/sabsabb/Python-Matplotlib/blob/main/MPL_02.ipynb\" target=\"_parent\"><img src=\"https://colab.research.google.com/assets/colab-badge.svg\" alt=\"Open In Colab\"/></a>"
      ]
    },
    {
      "cell_type": "markdown",
      "metadata": {
        "id": "kc1XjHHSB1be"
      },
      "source": [
        "**Pengenalan pyplot**\n",
        "\n",
        "___"
      ]
    },
    {
      "cell_type": "markdown",
      "metadata": {
        "id": "a8sD02jqB5mU"
      },
      "source": [
        "Import Modules"
      ]
    },
    {
      "cell_type": "code",
      "metadata": {
        "id": "TKRijFDgBeqy"
      },
      "source": [
        "import matplotlib.pyplot as plt\n",
        "import numpy as np"
      ],
      "execution_count": 1,
      "outputs": []
    },
    {
      "cell_type": "markdown",
      "metadata": {
        "id": "vTqOgrW6CHYF"
      },
      "source": [
        "Membuat Plotting Sederhana"
      ]
    },
    {
      "cell_type": "code",
      "metadata": {
        "colab": {
          "base_uri": "https://localhost:8080/",
          "height": 265
        },
        "id": "DZv-oMrcCYTs",
        "outputId": "26b9715e-f7b0-4bca-a878-8100791f87a6"
      },
      "source": [
        "plt.plot([2, 5, 7, 11])\n",
        "\n",
        "#penggunaan fungsi plot dapat dilakukan hanya dengan sebuah deret bilangan (list/array)\n",
        "\n",
        "plt.ylabel('sumbu y')\n",
        "plt.show()"
      ],
      "execution_count": 2,
      "outputs": [
        {
          "output_type": "display_data",
          "data": {
            "image/png": "[encoded data removed]",
            "text/plain": [
              "<Figure size 432x288 with 1 Axes>"
            ]
          },
          "metadata": {
            "needs_background": "light"
          }
        }
      ]
    },
    {
      "cell_type": "markdown",
      "metadata": {
        "id": "RBmzrTnfDNYn"
      },
      "source": [
        "Dengan hanya sebuah deret bilangan, maka secara otomatis akan menjadi data point untuk sumbu Y dan untuk data sumbu x akan secara otomatis dibuat bilangan berurut yang dimulai dari 0"
      ]
    },
    {
      "cell_type": "code",
      "metadata": {
        "colab": {
          "base_uri": "https://localhost:8080/",
          "height": 265
        },
        "id": "rD2CJVcqDarg",
        "outputId": "02aa1e6d-8fa0-4f12-ebc4-2c30f71381f6"
      },
      "source": [
        "#menyertakan data point untuk sumbu x dan sumbu y\n",
        "plt.plot([2, 5, 7, 11],[5, 4, 2, 16])\n",
        "plt.show()"
      ],
      "execution_count": 3,
      "outputs": [
        {
          "output_type": "display_data",
          "data": {
            "image/png": "[encoded data removed]",
            "text/plain": [
              "<Figure size 432x288 with 1 Axes>"
            ]
          },
          "metadata": {
            "needs_background": "light"
          }
        }
      ]
    },
    {
      "cell_type": "markdown",
      "metadata": {
        "id": "xGY0Q8lBLEE1"
      },
      "source": [
        "Pengaturan Format Pada Plot"
      ]
    },
    {
      "cell_type": "markdown",
      "metadata": {
        "id": "NB12EcODLHfr"
      },
      "source": [
        "Warna dan Bentuk Marker"
      ]
    },
    {
      "cell_type": "code",
      "metadata": {
        "colab": {
          "base_uri": "https://localhost:8080/",
          "height": 269
        },
        "id": "EY9-Njr_LJ37",
        "outputId": "3506e0cb-38dc-440f-ee59-c1c118cfeb6a"
      },
      "source": [
        "#Nilai default untuk parameter ketiga adalah 'b-' atau blue strip (biru garis)\n",
        "plt.plot([1, 2, 3, 4],[1, 4, 9, 16],'ro')\n",
        "# 'ro' r berarti red dan o berarti dot (bulat)\n",
        "\n",
        "#Pemanggilan axis menyertakan sebuah list [xmin, xmax, ymin, ymax]\n",
        "plt.axis([0, 6, 0, 20])\n",
        "plt.show()"
      ],
      "execution_count": 4,
      "outputs": [
        {
          "output_type": "display_data",
          "data": {
            "image/png": "[encoded data removed]",
            "text/plain": [
              "<Figure size 432x288 with 1 Axes>"
            ]
          },
          "metadata": {
            "needs_background": "light"
          }
        }
      ]
    },
    {
      "cell_type": "code",
      "metadata": {
        "colab": {
          "base_uri": "https://localhost:8080/",
          "height": 269
        },
        "id": "azvsd1O9Mt5J",
        "outputId": "d7c61968-5a49-4dad-9647-0586aeb8a5c6"
      },
      "source": [
        "#Nilai default untuk parameter ketiga adalah 'b-' atau blue strip (biru garis)\n",
        "plt.plot([1, 2, 3, 4],[1, 4, 9, 16],'g*')\n",
        "# 'g*' g berarti green dan * berarti star (bintang)\n",
        "\n",
        "#Pemanggilan axis menyertakan sebuah list [xmin, xmax, ymin, ymax]\n",
        "plt.axis([0, 6, 0, 20])\n",
        "plt.show()"
      ],
      "execution_count": 5,
      "outputs": [
        {
          "output_type": "display_data",
          "data": {
            "image/png": "[encoded data removed]",
            "text/plain": [
              "<Figure size 432x288 with 1 Axes>"
            ]
          },
          "metadata": {
            "needs_background": "light"
          }
        }
      ]
    },
    {
      "cell_type": "markdown",
      "metadata": {
        "id": "VRYEscj5MCIL"
      },
      "source": [
        "Multiplot dalam satu pemanggilan fungsi plot"
      ]
    },
    {
      "cell_type": "code",
      "metadata": {
        "colab": {
          "base_uri": "https://localhost:8080/"
        },
        "id": "ex2E7149MrTv",
        "outputId": "e0db6993-e9f3-43f7-90c9-f571959c87c8"
      },
      "source": [
        "t = np.arange(0. ,5. ,0.2)\n",
        "# 0 merupakan nilai awal\n",
        "# 5 merupakan batas nilai terbesar\n",
        "# 0.2 merupakan nilai kelipatan\n",
        "t"
      ],
      "execution_count": 6,
      "outputs": [
        {
          "output_type": "execute_result",
          "data": {
            "text/plain": [
              "array([0. , 0.2, 0.4, 0.6, 0.8, 1. , 1.2, 1.4, 1.6, 1.8, 2. , 2.2, 2.4,\n",
              "       2.6, 2.8, 3. , 3.2, 3.4, 3.6, 3.8, 4. , 4.2, 4.4, 4.6, 4.8])"
            ]
          },
          "metadata": {},
          "execution_count": 6
        }
      ]
    },
    {
      "cell_type": "markdown",
      "metadata": {
        "id": "bYqbLrNYOfzW"
      },
      "source": [
        "Cara Manual :"
      ]
    },
    {
      "cell_type": "code",
      "metadata": {
        "colab": {
          "base_uri": "https://localhost:8080/",
          "height": 265
        },
        "id": "otz77iCnNwM3",
        "outputId": "13bff61a-fdc8-42cd-bedc-3f709cabd02d"
      },
      "source": [
        "plt.plot(t, t, 'r--' )\n",
        "plt.plot(t, t**2, 'bs')\n",
        "plt.plot(t, t**3, 'g^')\n",
        "plt.show()"
      ],
      "execution_count": 7,
      "outputs": [
        {
          "output_type": "display_data",
          "data": {
            "image/png": "[encoded data removed]",
            "text/plain": [
              "<Figure size 432x288 with 1 Axes>"
            ]
          },
          "metadata": {
            "needs_background": "light"
          }
        }
      ]
    },
    {
      "cell_type": "markdown",
      "metadata": {
        "id": "c60eiT7nOEze"
      },
      "source": [
        "Cara Singkat :"
      ]
    },
    {
      "cell_type": "code",
      "metadata": {
        "colab": {
          "base_uri": "https://localhost:8080/",
          "height": 265
        },
        "id": "5UWmGL5oOGmi",
        "outputId": "f22be266-c049-48bf-bc6c-4aef8206c414"
      },
      "source": [
        "plt.plot(t, t, 'r--',\n",
        "         t, t**2, 'bs',\n",
        "         t, t**3, 'g^')\n",
        "plt.show()"
      ],
      "execution_count": 8,
      "outputs": [
        {
          "output_type": "display_data",
          "data": {
            "image/png": "[encoded data removed]",
            "text/plain": [
              "<Figure size 432x288 with 1 Axes>"
            ]
          },
          "metadata": {
            "needs_background": "light"
          }
        }
      ]
    },
    {
      "cell_type": "markdown",
      "metadata": {
        "id": "29hCm_tFOrFQ"
      },
      "source": [
        "Plotting dengan Keywords"
      ]
    },
    {
      "cell_type": "code",
      "metadata": {
        "colab": {
          "base_uri": "https://localhost:8080/"
        },
        "id": "rCOC_dIjOuCb",
        "outputId": "ddf5ed5f-3ec8-4063-9180-ea43c5dab1b1"
      },
      "source": [
        "data = {'a' : np.arange(50),\n",
        "        'c' : np.random.randint(0, 50, 50),\n",
        "        'd' : np.random.randn(50)}\n",
        "\n",
        "data['b'] = data['a'] + 10 * np.random.randn(50)\n",
        "data['d'] = np.abs(data['d']) * 100\n",
        "data"
      ],
      "execution_count": 9,
      "outputs": [
        {
          "output_type": "execute_result",
          "data": {
            "text/plain": [
              "{'a': array([ 0,  1,  2,  3,  4,  5,  6,  7,  8,  9, 10, 11, 12, 13, 14, 15, 16,\n",
              "        17, 18, 19, 20, 21, 22, 23, 24, 25, 26, 27, 28, 29, 30, 31, 32, 33,\n",
              "        34, 35, 36, 37, 38, 39, 40, 41, 42, 43, 44, 45, 46, 47, 48, 49]),\n",
              " 'b': array([ 14.14082105, -27.13139927,   0.14088711,  -6.15414678,\n",
              "         14.39360272,   9.59525788,  22.37644614,  15.76111011,\n",
              "          7.40430357,  18.63942684,  15.77222942,  21.37757767,\n",
              "         12.19363268,  15.88624895,   8.88894114,  20.65979665,\n",
              "         23.49424736,  32.10757246,  27.76250211,   9.25958921,\n",
              "         26.71975733,  18.9687313 ,  16.60611961,  20.68311384,\n",
              "         30.76210297,  22.77640773,  28.44937419,   0.54793763,\n",
              "         24.35798059,  22.38002077,  16.54248705,  15.01016389,\n",
              "         35.19624089,  34.45931257,  16.06677493,  36.48804685,\n",
              "         24.9273253 ,  48.57438594,  34.76201212,  27.11995504,\n",
              "         34.17884624,  25.39841215,  29.52803756,  44.58123561,\n",
              "         41.62029599,  65.67849406,  61.05538859,  43.62181337,\n",
              "         54.74609765,  58.94792714]),\n",
              " 'c': array([24, 40,  2, 42, 24, 36, 15, 19, 34,  0,  1, 13, 23, 48, 23, 38, 25,\n",
              "        12, 42, 38, 24,  7, 11,  5,  5, 39,  2, 13, 31, 25, 32, 16, 44,  0,\n",
              "        48, 19, 47, 41, 37, 36, 38, 19, 22, 21, 31,  6,  1, 39, 47, 17]),\n",
              " 'd': array([ 76.46130727,  54.8560986 ,  34.98131048, 149.65307857,\n",
              "        182.04035324, 171.62237935,  20.04404208,  80.91235195,\n",
              "         51.79665332, 122.64292756,  24.41562368, 103.41493616,\n",
              "        134.37239562,  15.4245008 ,  88.17996617, 255.65583793,\n",
              "         77.03419174,  39.8728213 ,  32.23232583, 111.20601368,\n",
              "         50.44127459,  38.1888553 , 130.50293978,   3.52622838,\n",
              "        140.35533622,  20.9914127 ,  18.71145238, 114.24831628,\n",
              "        196.00307044,  10.26628857, 117.29791436, 113.60854525,\n",
              "         12.38116758, 225.29087373,  90.02213949,  16.46863488,\n",
              "          3.8977732 ,  11.0730451 , 100.77343312,  77.38939261,\n",
              "         62.33327243,   5.35432108,  33.38012461, 110.33791389,\n",
              "        205.34015552,   3.24475715, 184.17712015,  73.94956166,\n",
              "         69.60262321,  68.749719  ])}"
            ]
          },
          "metadata": {},
          "execution_count": 9
        }
      ]
    },
    {
      "cell_type": "code",
      "metadata": {
        "colab": {
          "base_uri": "https://localhost:8080/",
          "height": 279
        },
        "id": "F2TwmWBoPfzy",
        "outputId": "e9384d3c-9b0f-483a-9a02-82780aa8f631"
      },
      "source": [
        "plt.scatter('a','b',data=data)\n",
        "plt.xlabel('entry a')\n",
        "plt.ylabel('entry b')\n",
        "plt.show()"
      ],
      "execution_count": 10,
      "outputs": [
        {
          "output_type": "display_data",
          "data": {
            "image/png": "[encoded data removed]",
            "text/plain": [
              "<Figure size 432x288 with 1 Axes>"
            ]
          },
          "metadata": {
            "needs_background": "light"
          }
        }
      ]
    },
    {
      "cell_type": "code",
      "metadata": {
        "colab": {
          "base_uri": "https://localhost:8080/",
          "height": 279
        },
        "id": "TVQ4z8IedXiE",
        "outputId": "9fd5c164-4994-411e-c9f6-e0d57e6ba6ee"
      },
      "source": [
        "plt.scatter('a','b',c='c',s='d',data=data)\n",
        "plt.xlabel('entry a')\n",
        "plt.ylabel('entry b')\n",
        "plt.show()"
      ],
      "execution_count": 11,
      "outputs": [
        {
          "output_type": "display_data",
          "data": {
            "image/png": "[encoded data removed]",
            "text/plain": [
              "<Figure size 432x288 with 1 Axes>"
            ]
          },
          "metadata": {
            "needs_background": "light"
          }
        }
      ]
    }
  ]
}