{
  "nbformat": 4,
  "nbformat_minor": 0,
  "metadata": {
    "colab": {
      "name": "MPL_09.ipynb",
      "provenance": [],
      "authorship_tag": "ABX9TyMfEilQCAJeaiZOWxUSNm9q",
      "include_colab_link": true
    },
    "kernelspec": {
      "name": "python3",
      "display_name": "Python 3"
    },
    "language_info": {
      "name": "python"
    }
  },
  "cells": [
    {
      "cell_type": "markdown",
      "metadata": {
        "id": "view-in-github",
        "colab_type": "text"
      },
      "source": [
        "<a href=\"https://colab.research.google.com/github/crzysab/Python-Matplotlib/blob/main/MPL_09.ipynb\" target=\"_parent\"><img src=\"https://colab.research.google.com/assets/colab-badge.svg\" alt=\"Open In Colab\"/></a>"
      ]
    },
    {
      "cell_type": "markdown",
      "metadata": {
        "id": "KkQklBv3_HDR"
      },
      "source": [
        "**Matplotlib Style**\n",
        "\n",
        "___"
      ]
    },
    {
      "cell_type": "markdown",
      "metadata": {
        "id": "r4B18_Oh_Lg_"
      },
      "source": [
        "Import Modules"
      ]
    },
    {
      "cell_type": "code",
      "metadata": {
        "id": "q7FCidG89h_l"
      },
      "source": [
        "import matplotlib\n",
        "import matplotlib.pyplot as plt\n",
        "import numpy as np\n",
        "from matplotlib import style"
      ],
      "execution_count": null,
      "outputs": []
    },
    {
      "cell_type": "markdown",
      "metadata": {
        "id": "ELnxuWwp_bKJ"
      },
      "source": [
        "Difinisi Fungsi Plotting"
      ]
    },
    {
      "cell_type": "code",
      "metadata": {
        "id": "iCiL0Ufe_dHA"
      },
      "source": [
        "def gambar_barplot():\n",
        "  data1 = [25, 85, 75, 40, 60]\n",
        "  data2 = [40, 35, 20, 55, 10]\n",
        "  kategori = ['A', 'B', 'C', 'D', 'E']\n",
        "\n",
        "  x = np.arange(len(kategori))\n",
        "\n",
        "  width = 0.5\n",
        "\n",
        "  plt.bar(x-width/2, data1, width, label ='Data 1')\n",
        "  plt.bar(x+width/2, data2, width, label ='Data 2')\n",
        "\n",
        "  plt.xticks(x, kategori)\n",
        "\n",
        "  plt.grid(linestyle=\"--\",\n",
        "           linewidth=1,\n",
        "           axis='y',\n",
        "           alpha=0.75)\n",
        "  \n",
        "  plt.xlabel('Kategori')\n",
        "  plt.ylabel('Jumlah')\n",
        "  plt.title('Contoh Grouped Bar Plot')\n",
        "\n",
        "  plt.legend()\n",
        "  plt.show()"
      ],
      "execution_count": null,
      "outputs": []
    },
    {
      "cell_type": "markdown",
      "metadata": {
        "id": "WOjSajYiAj2q"
      },
      "source": [
        "Memanggil Fungsi"
      ]
    },
    {
      "cell_type": "code",
      "metadata": {
        "colab": {
          "base_uri": "https://localhost:8080/",
          "height": 295
        },
        "id": "HOrXooTlAlHj",
        "outputId": "96997a10-a386-4bc7-9f99-a3466ae9f0ee"
      },
      "source": [
        "gambar_barplot()"
      ],
      "execution_count": null,
      "outputs": [
        {
          "output_type": "display_data",
          "data": {
            "image/png": "[encoded data removed]",
            "text/plain": [
              "<Figure size 432x288 with 1 Axes>"
            ]
          },
          "metadata": {
            "needs_background": "light"
          }
        }
      ]
    },
    {
      "cell_type": "markdown",
      "metadata": {
        "id": "B0pKXX5KAwdp"
      },
      "source": [
        "Matplotlib Style"
      ]
    },
    {
      "cell_type": "code",
      "metadata": {
        "colab": {
          "base_uri": "https://localhost:8080/"
        },
        "id": "Sv2z4G9JAyab",
        "outputId": "781349ca-ab68-4128-fcc1-3ac1f92b6f1b"
      },
      "source": [
        "plt.style.available"
      ],
      "execution_count": null,
      "outputs": [
        {
          "output_type": "execute_result",
          "data": {
            "text/plain": [
              "['Solarize_Light2',\n",
              " '_classic_test_patch',\n",
              " 'bmh',\n",
              " 'classic',\n",
              " 'dark_background',\n",
              " 'fast',\n",
              " 'fivethirtyeight',\n",
              " 'ggplot',\n",
              " 'grayscale',\n",
              " 'seaborn',\n",
              " 'seaborn-bright',\n",
              " 'seaborn-colorblind',\n",
              " 'seaborn-dark',\n",
              " 'seaborn-dark-palette',\n",
              " 'seaborn-darkgrid',\n",
              " 'seaborn-deep',\n",
              " 'seaborn-muted',\n",
              " 'seaborn-notebook',\n",
              " 'seaborn-paper',\n",
              " 'seaborn-pastel',\n",
              " 'seaborn-poster',\n",
              " 'seaborn-talk',\n",
              " 'seaborn-ticks',\n",
              " 'seaborn-white',\n",
              " 'seaborn-whitegrid',\n",
              " 'tableau-colorblind10']"
            ]
          },
          "metadata": {},
          "execution_count": 6
        }
      ]
    },
    {
      "cell_type": "code",
      "metadata": {
        "colab": {
          "base_uri": "https://localhost:8080/",
          "height": 376
        },
        "id": "GfieFmnxA19Z",
        "outputId": "0579a275-c6af-4a75-d961-29f84de9d73c"
      },
      "source": [
        "style.use('grayscale') #ubah sesuai keinginan dengan daftar style diatas\n",
        "gambar_barplot()"
      ],
      "execution_count": null,
      "outputs": [
        {
          "output_type": "display_data",
          "data": {
            "image/png": "[encoded data removed]",
            "text/plain": [
              "<Figure size 576x396 with 1 Axes>"
            ]
          },
          "metadata": {}
        }
      ]
    }
  ]
}